{
  "nbformat": 4,
  "nbformat_minor": 0,
  "metadata": {
    "colab": {
      "provenance": [],
      "authorship_tag": "ABX9TyP8ZFxp4Rpxb2pDduHq5hTR",
      "include_colab_link": true
    },
    "kernelspec": {
      "name": "python3",
      "display_name": "Python 3"
    },
    "language_info": {
      "name": "python"
    }
  },
  "cells": [
    {
      "cell_type": "markdown",
      "metadata": {
        "id": "view-in-github",
        "colab_type": "text"
      },
      "source": [
        "<a href=\"https://colab.research.google.com/github/buzzitos/findbox/blob/main/FindBox.ipynb\" target=\"_parent\"><img src=\"https://colab.research.google.com/assets/colab-badge.svg\" alt=\"Open In Colab\"/></a>"
      ]
    },
    {
      "cell_type": "code",
      "source": [
        "import pandas as pd\n",
        "\n",
        "\n",
        "cod = '14J7745326'\n",
        "\n",
        "df = pd.read_csv(\n",
        "    'arquivo.csv',\n",
        "    encoding='windows-1252',\n",
        "    sep=';',\n",
        "    usecols=['Data de Integração','Data de Desvio', 'Direção Desvio','Largura'],\n",
        ")\n",
        " \n",
        "\n",
        "\n",
        "\n",
        "df = df.rename(columns={'Data de Integração':'Cubometro'})\n",
        "df = df.rename(columns={'Data de Desvio':'Desvio'})\n",
        "df = df.rename(columns={'Direção Desvio':'Praça'})\n",
        "df = df.rename(columns={'Largura':'Código de barras'})\n",
        "\n",
        "\n",
        "\n",
        "box = df.loc[df['Código de barras'] == cod]\n",
        "AourB = box.iloc[1]['Desvio']\n",
        "\n",
        "\n",
        "srtA= ['A01', 'A02', 'A03', 'A04', 'A05', 'A06', 'A07', 'A08', 'A09', 'A10', 'A11', 'A12', 'A13', 'A14', 'A15', 'A16', 'A17', 'A18', 'A19', 'A20', 'A21', 'A22', 'A23', 'A24', 'A25', 'A26','...','999']\n",
        "A=['0A01', '0A02', '0A03', '0A04', '0A05', '0A06', '0A07', '0A08', '0A09', '0A10', '0A11', '0A12', '0A13', '0A14', '0A15', '0A16', '0A17', '0A18', '0A19', '0A20', '0A21', '0A22', '0A23', '0A24', '0A25', '0A26']\n",
        "\n",
        "srtB= ['B01', 'B02', 'B03', 'B04', 'B05', 'B06', 'B07', 'B08', 'B09', 'B10', 'B11', 'B12', 'B13', 'B14', 'B15', 'B16', 'B17' 'B18','...','999']\n",
        "B=['0B01', '0B02', '0B03', '0B04', '0B05', '0B06', '0B07', '0B08', '0B09', '0B10', '0B11', '0B12', '0B13', '0B14', '0B15', '0B16', '0B17','0B18']\n",
        "\n",
        "if AourB in A:\n",
        "    df = df[~df['Desvio'].isin(srtA)]\n",
        "    df = df[~df['Desvio'].isin(srtB)]\n",
        "    df = df[~df['Desvio'].isin(B)]\n",
        "else:\n",
        "    df = df[~df['Desvio'].isin(srtB)]\n",
        "    df = df[~df['Desvio'].isin(srtA)]\n",
        "    df = df[~df['Desvio'].isin(A)]\n",
        "\n",
        "df = df.reset_index()\n",
        "\n",
        "countIndex = df['Código de barras'].value_counts()[cod]\n",
        "\n",
        "if countIndex == \"1\":\n",
        "  index = df.loc[(df['Código de barras'] == cod)].index[0]\n",
        "else:\n",
        "  index = df.loc[(df['Código de barras'] == cod)].iloc[countIndex-1]\n",
        "  index = index.name\n",
        "  message = \"O volume recirculou. \"\n",
        "\n",
        "\n",
        "box1 = df.iloc[index-1, df.columns.get_loc('Praça')]\n",
        "realBox = df.iloc[index, df.columns.get_loc('Praça')]\n",
        "box2 = df.iloc[index+1, df.columns.get_loc('Praça')]\n",
        "\n",
        "\n",
        "if df.iloc[index-1, df.columns.get_loc('Desvio')] == \"0A09\":\n",
        "    box1 = \"Rejeito\"\n",
        "    \n",
        "if df.iloc[index+1, df.columns.get_loc('Desvio')] == \"0A09\":\n",
        "    box2= \"Rejeito\"\n",
        "\n",
        "\n",
        "if df.iloc[index-1, df.columns.get_loc('Desvio')] == \"0B01\":\n",
        "    box1 = \"Rejeito\"\n",
        "\n",
        "if df.iloc[index+1, df.columns.get_loc('Desvio')] == \"0B01\":\n",
        "    box2 = \"Rejeito\"\n",
        "\n",
        "print(f'{message}A caixa de {realBox}, pode ter caido em {box1} ou {box2}')\n"
      ],
      "metadata": {
        "colab": {
          "base_uri": "https://localhost:8080/"
        },
        "id": "kMg88ywwsehJ",
        "outputId": "28cd8146-04e0-4b2c-ef90-5ebec9526507"
      },
      "execution_count": 83,
      "outputs": [
        {
          "output_type": "stream",
          "name": "stdout",
          "text": [
            "O volume recirculou. A caixa de CWB, pode ter caido em GYN ou CWB\n"
          ]
        }
      ]
    }
  ]
}