{
  "nbformat": 4,
  "nbformat_minor": 0,
  "metadata": {
    "colab": {
      "provenance": [],
      "authorship_tag": "ABX9TyM31qydRGEGYvn5OeXN3h7g",
      "include_colab_link": true
    },
    "kernelspec": {
      "name": "python3",
      "display_name": "Python 3"
    },
    "language_info": {
      "name": "python"
    }
  },
  "cells": [
    {
      "cell_type": "markdown",
      "metadata": {
        "id": "view-in-github",
        "colab_type": "text"
      },
      "source": [
        "<a href=\"https://colab.research.google.com/github/alexandre-matias1/findbox/blob/main/FindBox.ipynb\" target=\"_parent\"><img src=\"https://colab.research.google.com/assets/colab-badge.svg\" alt=\"Open In Colab\"/></a>"
      ]
    },
    {
      "cell_type": "code",
      "source": [
        "import pandas as pd\n",
        "\n",
        "## CSV 06:00 - 20:40\n",
        "\n",
        "cod = '09J310382112'\n",
        "\n",
        "\n",
        "def findBox(cod):\n",
        "  df = pd.read_csv(\n",
        "        'arquivo.csv',\n",
        "        encoding='windows-1252',\n",
        "        sep=';',\n",
        "        usecols=['Data de Integração','Data de Desvio', 'Direção Desvio','Largura'],\n",
        "  )\n",
        "    \n",
        "  srtA= ['A01', 'A02', 'A03', 'A04', 'A05', 'A06', 'A07', 'A08', 'A09', 'A10', 'A11', 'A12', 'A13', 'A14', 'A15', 'A16', 'A17', 'A18', 'A19', 'A20', 'A21', 'A22', 'A23', 'A24', 'A25', 'A26','...','999']\n",
        "  A=['0A01', '0A02', '0A03', '0A04', '0A05', '0A06', '0A07', '0A08', '0A09', '0A10', '0A11', '0A12', '0A13', '0A14', '0A15', '0A16', '0A17', '0A18', '0A19', '0A20', '0A21', '0A22', '0A23', '0A24', '0A25', '0A26']\n",
        "  recirculation = ['...','999']\n",
        "  srtB= ['B01', 'B02', 'B03', 'B04', 'B05', 'B06', 'B07', 'B08', 'B09', 'B10', 'B11', 'B12', 'B13', 'B14', 'B15', 'B16', 'B17' 'B18']\n",
        "  B=['0B01', '0B02', '0B03', '0B04', '0B05', '0B06', '0B07', '0B08', '0B09', '0B10', '0B11', '0B12', '0B13', '0B14', '0B15', '0B16', '0B17','0B18']\n",
        "\n",
        "  df = df.rename(columns={'Data de Integração':'Cubometro'})\n",
        "  df = df.rename(columns={'Data de Desvio':'Desvio'})\n",
        "  df = df.rename(columns={'Direção Desvio':'Praça'})\n",
        "  df = df.rename(columns={'Largura':'Código de barras'})\n",
        "\n",
        "\n",
        "  if cod not in df['Código de barras'].values:\n",
        "    return print(\"Volume não encontrado, caixa virou ou volume não induzido\")\n",
        "  else:\n",
        "    box = df.loc[df['Código de barras'] == cod] # Localiza todas as informações do volume\n",
        "    AourB = box.iloc[1]['Desvio']\n",
        "\n",
        "\n",
        "  df = df[~df['Desvio'].isin(recirculation)] # Remove recirculação\n",
        "\n",
        "  ### Validação se a caixa tem descida confirmada\n",
        "  indexConfirm = df.loc[(df['Código de barras'] == cod)]\n",
        "  countConfirm = df['Código de barras'].value_counts()[cod]\n",
        "  indexConfirmAorB = indexConfirm['Desvio'].values[countConfirm-1]\n",
        "  confirm = indexConfirmAorB in srtA or indexConfirmAorB in srtB\n",
        "\n",
        "\n",
        "\n",
        "  ### Exclui sorter oposto e confirmações da tabela\n",
        "  if AourB in A:\n",
        "    df = df[~df['Desvio'].isin(srtA)]\n",
        "    df = df[~df['Desvio'].isin(srtB)]\n",
        "    df = df[~df['Desvio'].isin(B)]\n",
        "  else:\n",
        "    df = df[~df['Desvio'].isin(srtB)]\n",
        "    df = df[~df['Desvio'].isin(srtA)]\n",
        "    df = df[~df['Desvio'].isin(A)]\n",
        "\n",
        "\n",
        "  df = df.reset_index()\n",
        "\n",
        "\n",
        "\n",
        "  # Valida se o volume recirculou, para pegar a última passagem do mesmo no cubometro\n",
        "  countIndex = df['Código de barras'].value_counts()[cod]\n",
        "  countIndex = int(countIndex)\n",
        "  if countIndex == 1:\n",
        "    index = df.loc[(df['Código de barras'] == cod)].index[0]\n",
        "  else:\n",
        "    index = df.loc[(df['Código de barras'] == cod)].iloc[countIndex-1]\n",
        "    index = index.name\n",
        "\n",
        "\n",
        "  # Salva o volume buscado, seu antecessor e sucessor\n",
        "  box1 = df.iloc[index-1, df.columns.get_loc('Praça')]\n",
        "  realBox = df.iloc[index, df.columns.get_loc('Praça')]\n",
        "  box2 = df.iloc[index+1, df.columns.get_loc('Praça')]\n",
        "\n",
        "\n",
        "  if df.iloc[index-1, df.columns.get_loc('Desvio')] == \"0A09\":\n",
        "    box1 = \"Rejeito\"\n",
        "  if df.iloc[index+1, df.columns.get_loc('Desvio')] == \"0A09\":\n",
        "    box2= \"Rejeito\"\n",
        "  if df.iloc[index-1, df.columns.get_loc('Desvio')] == \"0B01\":\n",
        "    box1 = \"Rejeito\"\n",
        "  if df.iloc[index+1, df.columns.get_loc('Desvio')] == \"0B01\":\n",
        "    box2 = \"Rejeito\"\n",
        "\n",
        "\n",
        "\n",
        "\n",
        "  if confirm:\n",
        "    print(f'O volume {realBox} tem descida confirmada, porém tente ver em {box1} ou {box2}')\n",
        "  else:\n",
        "    print(f'O volume de {realBox} pode ter caido em {box1} ou {box2} ')\n",
        "\n"
      ],
      "metadata": {
        "id": "mGIlPS40iMJp"
      },
      "execution_count": 7,
      "outputs": []
    },
    {
      "cell_type": "code",
      "source": [
        "cod = '123'\n",
        "findBox(cod)"
      ],
      "metadata": {
        "colab": {
          "base_uri": "https://localhost:8080/"
        },
        "id": "xjQOfmjUiUa8",
        "outputId": "56132478-5761-41b1-a6c3-501be7b9286a"
      },
      "execution_count": 10,
      "outputs": [
        {
          "output_type": "stream",
          "name": "stdout",
          "text": [
            "Volume não encontrado, caixa virou ou volume não induzido\n"
          ]
        }
      ]
    }
  ]
}